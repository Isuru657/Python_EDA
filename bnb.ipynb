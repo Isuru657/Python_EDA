{
 "cells": [
  {
   "cell_type": "markdown",
   "metadata": {},
   "source": [
    "# AirBnBs in New York"
   ]
  },
  {
   "cell_type": "markdown",
   "metadata": {},
   "source": [
    "Although I do not own any property in New York, I have plans of running an AirBnB in the area with the hopes of getting a large secondary income because of its pricey property market. Entering a new market requires careful inspection of its dynamics; using Kaggle's dataset on AirBnB's in New York, I hope to gain insights that would help me determine how to run an AirBnB in New York."
   ]
  },
  {
   "cell_type": "code",
   "execution_count": 2,
   "metadata": {},
   "outputs": [],
   "source": [
    "#Importing the necessary packages\n",
    "import numpy as np\n",
    "import pandas as pd\n",
    "import matplotlib.pyplot as plt\n",
    "from nltk.corpus import stopwords\n",
    "import re\n",
    "import random\n",
    "from sklearn.metrics.pairwise import linear_kernel\n",
    "from sklearn.feature_extraction.text import CountVectorizer\n",
    "from sklearn.feature_extraction.text import TfidfVectorizer\n",
    "from sklearn.decomposition import LatentDirichletAllocation\n",
    "import cufflinks"
   ]
  },
  {
   "cell_type": "code",
   "execution_count": 4,
   "metadata": {},
   "outputs": [],
   "source": [
    "#Importing the dataset\n",
    "bnb=pd.read_csv(\"/Users/isuruabeysekara/Downloads/new-york-city-airbnb-open-data/AB_NYC_2019.csv\")"
   ]
  },
  {
   "cell_type": "code",
   "execution_count": 8,
   "metadata": {},
   "outputs": [
    {
     "name": "stdout",
     "output_type": "stream",
     "text": [
      "<class 'pandas.core.frame.DataFrame'>\n",
      "RangeIndex: 48895 entries, 0 to 48894\n",
      "Data columns (total 16 columns):\n",
      "id                                48895 non-null int64\n",
      "name                              48879 non-null object\n",
      "host_id                           48895 non-null int64\n",
      "host_name                         48874 non-null object\n",
      "neighbourhood_group               48895 non-null object\n",
      "neighbourhood                     48895 non-null object\n",
      "latitude                          48895 non-null float64\n",
      "longitude                         48895 non-null float64\n",
      "room_type                         48895 non-null object\n",
      "price                             48895 non-null int64\n",
      "minimum_nights                    48895 non-null int64\n",
      "number_of_reviews                 48895 non-null int64\n",
      "last_review                       38843 non-null object\n",
      "reviews_per_month                 38843 non-null float64\n",
      "calculated_host_listings_count    48895 non-null int64\n",
      "availability_365                  48895 non-null int64\n",
      "dtypes: float64(3), int64(7), object(6)\n",
      "memory usage: 6.0+ MB\n"
     ]
    },
    {
     "data": {
      "text/html": [
       "<div>\n",
       "<style scoped>\n",
       "    .dataframe tbody tr th:only-of-type {\n",
       "        vertical-align: middle;\n",
       "    }\n",
       "\n",
       "    .dataframe tbody tr th {\n",
       "        vertical-align: top;\n",
       "    }\n",
       "\n",
       "    .dataframe thead th {\n",
       "        text-align: right;\n",
       "    }\n",
       "</style>\n",
       "<table border=\"1\" class=\"dataframe\">\n",
       "  <thead>\n",
       "    <tr style=\"text-align: right;\">\n",
       "      <th></th>\n",
       "      <th>id</th>\n",
       "      <th>name</th>\n",
       "      <th>host_id</th>\n",
       "      <th>host_name</th>\n",
       "      <th>neighbourhood_group</th>\n",
       "      <th>neighbourhood</th>\n",
       "      <th>latitude</th>\n",
       "      <th>longitude</th>\n",
       "      <th>room_type</th>\n",
       "      <th>price</th>\n",
       "      <th>minimum_nights</th>\n",
       "      <th>number_of_reviews</th>\n",
       "      <th>last_review</th>\n",
       "      <th>reviews_per_month</th>\n",
       "      <th>calculated_host_listings_count</th>\n",
       "      <th>availability_365</th>\n",
       "    </tr>\n",
       "  </thead>\n",
       "  <tbody>\n",
       "    <tr>\n",
       "      <th>48890</th>\n",
       "      <td>36484665</td>\n",
       "      <td>Charming one bedroom - newly renovated rowhouse</td>\n",
       "      <td>8232441</td>\n",
       "      <td>Sabrina</td>\n",
       "      <td>Brooklyn</td>\n",
       "      <td>Bedford-Stuyvesant</td>\n",
       "      <td>40.67853</td>\n",
       "      <td>-73.94995</td>\n",
       "      <td>Private room</td>\n",
       "      <td>70</td>\n",
       "      <td>2</td>\n",
       "      <td>0</td>\n",
       "      <td>NaN</td>\n",
       "      <td>NaN</td>\n",
       "      <td>2</td>\n",
       "      <td>9</td>\n",
       "    </tr>\n",
       "    <tr>\n",
       "      <th>48891</th>\n",
       "      <td>36485057</td>\n",
       "      <td>Affordable room in Bushwick/East Williamsburg</td>\n",
       "      <td>6570630</td>\n",
       "      <td>Marisol</td>\n",
       "      <td>Brooklyn</td>\n",
       "      <td>Bushwick</td>\n",
       "      <td>40.70184</td>\n",
       "      <td>-73.93317</td>\n",
       "      <td>Private room</td>\n",
       "      <td>40</td>\n",
       "      <td>4</td>\n",
       "      <td>0</td>\n",
       "      <td>NaN</td>\n",
       "      <td>NaN</td>\n",
       "      <td>2</td>\n",
       "      <td>36</td>\n",
       "    </tr>\n",
       "    <tr>\n",
       "      <th>48892</th>\n",
       "      <td>36485431</td>\n",
       "      <td>Sunny Studio at Historical Neighborhood</td>\n",
       "      <td>23492952</td>\n",
       "      <td>Ilgar &amp; Aysel</td>\n",
       "      <td>Manhattan</td>\n",
       "      <td>Harlem</td>\n",
       "      <td>40.81475</td>\n",
       "      <td>-73.94867</td>\n",
       "      <td>Entire home/apt</td>\n",
       "      <td>115</td>\n",
       "      <td>10</td>\n",
       "      <td>0</td>\n",
       "      <td>NaN</td>\n",
       "      <td>NaN</td>\n",
       "      <td>1</td>\n",
       "      <td>27</td>\n",
       "    </tr>\n",
       "    <tr>\n",
       "      <th>48893</th>\n",
       "      <td>36485609</td>\n",
       "      <td>43rd St. Time Square-cozy single bed</td>\n",
       "      <td>30985759</td>\n",
       "      <td>Taz</td>\n",
       "      <td>Manhattan</td>\n",
       "      <td>Hell's Kitchen</td>\n",
       "      <td>40.75751</td>\n",
       "      <td>-73.99112</td>\n",
       "      <td>Shared room</td>\n",
       "      <td>55</td>\n",
       "      <td>1</td>\n",
       "      <td>0</td>\n",
       "      <td>NaN</td>\n",
       "      <td>NaN</td>\n",
       "      <td>6</td>\n",
       "      <td>2</td>\n",
       "    </tr>\n",
       "    <tr>\n",
       "      <th>48894</th>\n",
       "      <td>36487245</td>\n",
       "      <td>Trendy duplex in the very heart of Hell's Kitchen</td>\n",
       "      <td>68119814</td>\n",
       "      <td>Christophe</td>\n",
       "      <td>Manhattan</td>\n",
       "      <td>Hell's Kitchen</td>\n",
       "      <td>40.76404</td>\n",
       "      <td>-73.98933</td>\n",
       "      <td>Private room</td>\n",
       "      <td>90</td>\n",
       "      <td>7</td>\n",
       "      <td>0</td>\n",
       "      <td>NaN</td>\n",
       "      <td>NaN</td>\n",
       "      <td>1</td>\n",
       "      <td>23</td>\n",
       "    </tr>\n",
       "  </tbody>\n",
       "</table>\n",
       "</div>"
      ],
      "text/plain": [
       "             id                                               name   host_id  \\\n",
       "48890  36484665    Charming one bedroom - newly renovated rowhouse   8232441   \n",
       "48891  36485057      Affordable room in Bushwick/East Williamsburg   6570630   \n",
       "48892  36485431            Sunny Studio at Historical Neighborhood  23492952   \n",
       "48893  36485609               43rd St. Time Square-cozy single bed  30985759   \n",
       "48894  36487245  Trendy duplex in the very heart of Hell's Kitchen  68119814   \n",
       "\n",
       "           host_name neighbourhood_group       neighbourhood  latitude  \\\n",
       "48890        Sabrina            Brooklyn  Bedford-Stuyvesant  40.67853   \n",
       "48891        Marisol            Brooklyn            Bushwick  40.70184   \n",
       "48892  Ilgar & Aysel           Manhattan              Harlem  40.81475   \n",
       "48893            Taz           Manhattan      Hell's Kitchen  40.75751   \n",
       "48894     Christophe           Manhattan      Hell's Kitchen  40.76404   \n",
       "\n",
       "       longitude        room_type  price  minimum_nights  number_of_reviews  \\\n",
       "48890  -73.94995     Private room     70               2                  0   \n",
       "48891  -73.93317     Private room     40               4                  0   \n",
       "48892  -73.94867  Entire home/apt    115              10                  0   \n",
       "48893  -73.99112      Shared room     55               1                  0   \n",
       "48894  -73.98933     Private room     90               7                  0   \n",
       "\n",
       "      last_review  reviews_per_month  calculated_host_listings_count  \\\n",
       "48890         NaN                NaN                               2   \n",
       "48891         NaN                NaN                               2   \n",
       "48892         NaN                NaN                               1   \n",
       "48893         NaN                NaN                               6   \n",
       "48894         NaN                NaN                               1   \n",
       "\n",
       "       availability_365  \n",
       "48890                 9  \n",
       "48891                36  \n",
       "48892                27  \n",
       "48893                 2  \n",
       "48894                23  "
      ]
     },
     "execution_count": 8,
     "metadata": {},
     "output_type": "execute_result"
    }
   ],
   "source": [
    "#Exploring the dataset\n",
    "bnb.info()\n",
    "bnb.head()\n",
    "bnb.tail()\n"
   ]
  },
  {
   "cell_type": "markdown",
   "metadata": {},
   "source": [
    "# Basic Analysis"
   ]
  },
  {
   "cell_type": "code",
   "execution_count": 11,
   "metadata": {},
   "outputs": [
    {
     "name": "stdout",
     "output_type": "stream",
     "text": [
      "neighbourhood\n",
      "Williamsburg                  3920\n",
      "Bedford-Stuyvesant            3714\n",
      "Harlem                        2658\n",
      "Bushwick                      2465\n",
      "Upper West Side               1971\n",
      "Hell's Kitchen                1958\n",
      "East Village                  1853\n",
      "Upper East Side               1798\n",
      "Crown Heights                 1564\n",
      "Midtown                       1545\n",
      "East Harlem                   1117\n",
      "Greenpoint                    1115\n",
      "Chelsea                       1113\n",
      "Lower East Side                911\n",
      "Astoria                        900\n",
      "Washington Heights             899\n",
      "West Village                   768\n",
      "Financial District             744\n",
      "Flatbush                       621\n",
      "Clinton Hill                   572\n",
      "Long Island City               537\n",
      "Prospect-Lefferts Gardens      535\n",
      "Park Slope                     506\n",
      "East Flatbush                  500\n",
      "Fort Greene                    489\n",
      "Murray Hill                    485\n",
      "Kips Bay                       470\n",
      "Flushing                       426\n",
      "Ridgewood                      423\n",
      "Greenwich Village              392\n",
      "                              ... \n",
      "Emerson Hill                     5\n",
      "New Dorp Beach                   5\n",
      "Little Neck                      5\n",
      "New Brighton                     5\n",
      "Holliswood                       4\n",
      "Mill Basin                       4\n",
      "Spuyten Duyvil                   4\n",
      "Arden Heights                    4\n",
      "Castleton Corners                4\n",
      "Todt Hill                        4\n",
      "Olinville                        4\n",
      "Prince's Bay                     4\n",
      "Breezy Point                     3\n",
      "Neponsit                         3\n",
      "Eltingville                      3\n",
      "Huguenot                         3\n",
      "Graniteville                     3\n",
      "Lighthouse Hill                  2\n",
      "Bay Terrace, Staten Island       2\n",
      "Silver Lake                      2\n",
      "Westerleigh                      2\n",
      "Howland Hook                     2\n",
      "West Farms                       2\n",
      "Co-op City                       2\n",
      "Woodrow                          1\n",
      "New Dorp                         1\n",
      "Willowbrook                      1\n",
      "Fort Wadsworth                   1\n",
      "Richmondtown                     1\n",
      "Rossville                        1\n",
      "Length: 221, dtype: int64\n"
     ]
    }
   ],
   "source": [
    "#Where are AirBnBs listed the most?\n",
    "count=bnb.groupby('neighbourhood').size().sort_values(ascending= False)\n",
    "print(count)"
   ]
  },
  {
   "cell_type": "markdown",
   "metadata": {},
   "source": [
    "Most AirBnBs are listed in Williamsburg, whereas the least AirBnBs are listed in Woodrow, New Dorp, Willowbrook, Fort Wadsworth, Richmondtown and Rosville. The count dataframe may indicate market saturation in Williamsburg and opportunities in places like Rossville; whilst there is no additional information to support this theory, it could be one potential hypothesis."
   ]
  },
  {
   "cell_type": "code",
   "execution_count": 12,
   "metadata": {},
   "outputs": [
    {
     "name": "stdout",
     "output_type": "stream",
     "text": [
      "room_type\n",
      "Entire home/apt    25409\n",
      "Private room       22326\n",
      "Shared room         1160\n",
      "dtype: int64\n"
     ]
    }
   ],
   "source": [
    "roomc=bnb.groupby(['room_type']).size().sort_values(ascending= False)\n",
    "print(roomc)"
   ]
  },
  {
   "cell_type": "markdown",
   "metadata": {},
   "source": [
    "Shared rooms are not listed as much as the other two types. Such a signficant disparity in preference will prompt me to list shared rooms less than the other two types."
   ]
  },
  {
   "cell_type": "code",
   "execution_count": 20,
   "metadata": {},
   "outputs": [
    {
     "name": "stdout",
     "output_type": "stream",
     "text": [
      "                      price  minimum_nights  number_of_reviews  \\\n",
      "room_type                                                        \n",
      "Entire home/apt  211.794246        8.506907          22.842418   \n",
      "Private room      89.780973        5.377900          24.112962   \n",
      "Shared room       70.127586        6.475000          16.600000   \n",
      "\n",
      "                 reviews_per_month  availability_365  avg_rev_per_listing  \n",
      "room_type                                                                  \n",
      "Entire home/apt           1.306578        111.920304          1801.713955  \n",
      "Private room              1.445209        111.203933           482.833112  \n",
      "Shared room               1.471726        162.000862           454.076121  \n"
     ]
    }
   ],
   "source": [
    "bnb1=bnb[['price', 'minimum_nights', 'number_of_reviews', 'reviews_per_month', 'availability_365', 'room_type']].groupby('room_type').agg('mean')\n",
    "bnb1['avg_rev_per_listing']=bnb1['price']*bnb1['minimum_nights']\n",
    "print(bnb1)"
   ]
  },
  {
   "cell_type": "markdown",
   "metadata": {},
   "source": [
    "The bnb1 dataframe shows that it is sensible for me to list an entire home or apartment because the average listing is at a significantly higher price and for the longest time period, meaning that the average revenue per listing is signficantly higher than other room types.\n",
    "\n",
    "The dataframe will also deter me from listing shared rooms, because it takes yields the lowest average revenue per listing and takes the longest to be occupied by customers."
   ]
  },
  {
   "cell_type": "code",
   "execution_count": 21,
   "metadata": {},
   "outputs": [
    {
     "name": "stdout",
     "output_type": "stream",
     "text": [
      "neighbourhood\n",
      "Fort Wadsworth        800.000000\n",
      "Woodrow               700.000000\n",
      "Tribeca               490.638418\n",
      "Sea Gate              487.857143\n",
      "Riverdale             442.090909\n",
      "Prince's Bay          409.500000\n",
      "Battery Park City     367.557143\n",
      "Flatiron District     341.925000\n",
      "Randall Manor         336.000000\n",
      "NoHo                  295.717949\n",
      "SoHo                  287.103352\n",
      "Midtown               282.719094\n",
      "Neponsit              274.666667\n",
      "West Village          267.682292\n",
      "Greenwich Village     263.405612\n",
      "Chelsea               249.738544\n",
      "Willowbrook           249.000000\n",
      "Theater District      248.013889\n",
      "Nolita                230.138340\n",
      "Financial District    225.490591\n",
      "Gramercy              222.754438\n",
      "Little Italy          222.066116\n",
      "Murray Hill           220.958763\n",
      "Breezy Point          213.333333\n",
      "Cobble Hill           211.929293\n",
      "Upper West Side       210.918316\n",
      "Brooklyn Heights      209.064935\n",
      "Hell's Kitchen        204.794178\n",
      "Kips Bay              202.408511\n",
      "DUMBO                 196.305556\n",
      "                         ...    \n",
      "Fieldston              75.083333\n",
      "Rossville              75.000000\n",
      "Concourse Village      73.781250\n",
      "Westerleigh            71.500000\n",
      "Highbridge             71.111111\n",
      "Silver Lake            70.000000\n",
      "University Heights     69.571429\n",
      "Fordham                69.444444\n",
      "Morris Park            69.333333\n",
      "Schuylerville          69.230769\n",
      "Parkchester            69.076923\n",
      "Graniteville           68.666667\n",
      "Emerson Hill           68.200000\n",
      "Arden Heights          67.250000\n",
      "Woodhaven              67.170455\n",
      "Olinville              64.000000\n",
      "Borough Park           63.066176\n",
      "Castle Hill            63.000000\n",
      "Woodlawn               60.090909\n",
      "Corona                 59.171875\n",
      "Mount Eden             58.500000\n",
      "Concord                58.192308\n",
      "Grant City             57.666667\n",
      "New Dorp Beach         57.400000\n",
      "Bronxdale              57.105263\n",
      "New Dorp               57.000000\n",
      "Soundview              53.466667\n",
      "Tremont                51.545455\n",
      "Hunts Point            50.500000\n",
      "Bull's Head            47.333333\n",
      "Name: price, Length: 221, dtype: float64\n"
     ]
    }
   ],
   "source": [
    "price=bnb.groupby(['neighbourhood']).agg('mean').loc[:,'price'].sort_values(ascending= False)\n",
    "print(price)"
   ]
  },
  {
   "cell_type": "markdown",
   "metadata": {},
   "source": [
    "The prices of Fort Wadsworth and Woodrow seem to be the highest; it is also listed the least. Any successful listing here would yield a large income!"
   ]
  },
  {
   "cell_type": "code",
   "execution_count": 22,
   "metadata": {},
   "outputs": [
    {
     "data": {
      "text/plain": [
       "new_avail\n",
       "(101, 150]    2266\n",
       "(201, 250]    2301\n",
       "(251, 300]    2822\n",
       "(151, 200]    3421\n",
       "(51, 100]     4757\n",
       "(0, 50]       7395\n",
       "(301, 365]    8045\n",
       "dtype: int64"
      ]
     },
     "execution_count": 22,
     "metadata": {},
     "output_type": "execute_result"
    }
   ],
   "source": [
    "#Checking how long a listing takes to get occupied\n",
    "bins = pd.IntervalIndex.from_tuples([(0, 50), (51, 100), (101, 150), (151,200), (201, 250), (251, 300), (301, 365)])\n",
    "bnb['new_avail']=pd.cut(bnb['availability_365'], bins)\n",
    "bnb.groupby('new_avail').size().sort_values(ascending= True)"
   ]
  },
  {
   "cell_type": "markdown",
   "metadata": {},
   "source": [
    "Most listings take between 0-50 and 301-365 days to get occupied."
   ]
  },
  {
   "cell_type": "markdown",
   "metadata": {},
   "source": [
    "# Checking the price variable's relationship with other variables in the dataset"
   ]
  },
  {
   "cell_type": "markdown",
   "metadata": {},
   "source": [
    "Now that I have a basic understanding of how AirBnBs operate in New York, I need to see how I can price my property in a way that I can maximize my income."
   ]
  },
  {
   "cell_type": "code",
   "execution_count": 34,
   "metadata": {},
   "outputs": [
    {
     "name": "stdout",
     "output_type": "stream",
     "text": [
      "0.08182882742168804\n"
     ]
    },
    {
     "data": {
      "image/png": "[encoded data removed]",
      "text/plain": [
       "<Figure size 432x288 with 1 Axes>"
      ]
     },
     "metadata": {
      "needs_background": "light"
     },
     "output_type": "display_data"
    }
   ],
   "source": [
    "#Does the number of days that a property is unoccupied affect price?\n",
    "print(bnb['availability_365'].corr(bnb['price']))\n",
    "plt.scatter(x=bnb['availability_365'], y=bnb['price'])\n",
    "plt.title('Availability vs Price')\n",
    "plt.xlabel('Number of days unoccupied')\n",
    "plt.ylabel('Price')\n",
    "plt.show()"
   ]
  },
  {
   "cell_type": "markdown",
   "metadata": {},
   "source": [
    "There is close to no correlation between the number of days unoccupied and price. Therefore, in the event that my property is unoccupied for a long period of time, I do not necessarily have to lower the price."
   ]
  },
  {
   "cell_type": "code",
   "execution_count": 35,
   "metadata": {},
   "outputs": [
    {
     "name": "stdout",
     "output_type": "stream",
     "text": [
      "-0.04795422658266219\n"
     ]
    },
    {
     "data": {
      "image/png": "[encoded data removed]",
      "text/plain": [
       "<Figure size 432x288 with 1 Axes>"
      ]
     },
     "metadata": {
      "needs_background": "light"
     },
     "output_type": "display_data"
    }
   ],
   "source": [
    "#Does the number of reviews affect price?\n",
    "print(bnb['number_of_reviews'].corr(bnb['price']))\n",
    "plt.scatter(x=bnb['availability_365'], y=bnb['price'])\n",
    "plt.title('Number of Reviews vs Price')\n",
    "plt.xlabel('Number of Reviews')\n",
    "plt.ylabel('Price')\n",
    "plt.show()"
   ]
  },
  {
   "cell_type": "markdown",
   "metadata": {},
   "source": [
    "There is close to no correlation between the number of days unoccupied and price. This means that I cannot use credibility based on the number of reviews to justify adding value and premiums to the base price."
   ]
  },
  {
   "cell_type": "code",
   "execution_count": 30,
   "metadata": {},
   "outputs": [
    {
     "data": {
      "text/plain": [
       "-0.053612815232286"
      ]
     },
     "execution_count": 30,
     "metadata": {},
     "output_type": "execute_result"
    }
   ],
   "source": [
    "#Does room type affect price?\n",
    "bnb['price'].corr((bnb['room_type']=='Private room'))"
   ]
  },
  {
   "cell_type": "code",
   "execution_count": 31,
   "metadata": {},
   "outputs": [
    {
     "data": {
      "text/plain": [
       "0.25585664692550714"
      ]
     },
     "execution_count": 31,
     "metadata": {},
     "output_type": "execute_result"
    }
   ],
   "source": [
    "bnb['price'].corr((bnb['room_type']=='Entire home/apt'))"
   ]
  },
  {
   "cell_type": "code",
   "execution_count": 32,
   "metadata": {},
   "outputs": [
    {
     "data": {
      "text/plain": [
       "-0.053612815232286"
      ]
     },
     "execution_count": 32,
     "metadata": {},
     "output_type": "execute_result"
    }
   ],
   "source": [
    "bnb['price'].corr((bnb['room_type']=='Shared room'))"
   ]
  },
  {
   "cell_type": "markdown",
   "metadata": {},
   "source": [
    "There is a slightly positive correlation between price and listing entire homes or apartments but little to no correlation for other room types."
   ]
  },
  {
   "cell_type": "code",
   "execution_count": 36,
   "metadata": {},
   "outputs": [],
   "source": [
    "#How should I phrase my adverts?: extracting the most used words from the name column and checking which words correspond with high priced listings and which words correspond with low priced listings\n",
    "bnb['name']=bnb['name'].str.lower()\n",
    "##Defining function to extract words including stop words:\n",
    "def get_top_n_words(corpus, n=None):\n",
    "    vec = CountVectorizer().fit(corpus)\n",
    "    bag_of_words = vec.transform(corpus)\n",
    "    sum_words = bag_of_words.sum(axis=0) \n",
    "    words_freq = [(word, sum_words[0, idx]) for word, idx in vec.vocabulary_.items()]\n",
    "    words_freq =sorted(words_freq, key = lambda x: x[1], reverse=True)\n",
    "    return words_freq[:n]\n",
    "\n",
    "##Defining function to extract words excluding stop words:\n",
    "def get_top_n_words(corpus, n=None):\n",
    "    vec = CountVectorizer(stop_words='english').fit(corpus)\n",
    "    bag_of_words = vec.transform(corpus)\n",
    "    sum_words = bag_of_words.sum(axis=0) \n",
    "    words_freq = [(word, sum_words[0, idx]) for word, idx in vec.vocabulary_.items()]\n",
    "    words_freq =sorted(words_freq, key = lambda x: x[1], reverse=True)\n",
    "    return words_freq[:n]\n",
    "##Function does not work with NA values\n",
    "bnb['new_name']=bnb['name'].fillna(\"not available\")\n",
    "bnb['new_name']=bnb['new_name'].str.lower()"
   ]
  },
  {
   "cell_type": "code",
   "execution_count": 47,
   "metadata": {},
   "outputs": [
    {
     "data": {
      "image/png": "[encoded data removed]",
      "text/plain": [
       "<Figure size 432x288 with 1 Axes>"
      ]
     },
     "metadata": {
      "needs_background": "light"
     },
     "output_type": "display_data"
    }
   ],
   "source": [
    "##Splitting the price variable into 4 quartiles\n",
    "bnb['qrt']=pd.qcut(bnb['price'], 4, labels=[\"1\", \"2\", \"3\", \"4\"])\n",
    "##Extracting words from the highest priced listings\n",
    "x=bnb[bnb['qrt'] ==\"4\"]\n",
    "common_words = get_top_n_words(x['new_name'], 20)\n",
    "df1 = pd.DataFrame(common_words, columns = ['desc' , 'count'])\n",
    "df1.groupby('desc').sum()['count'].sort_values(ascending= False)\n",
    "plt.bar(x=df1['desc'], height=df1['count'])\n",
    "plt.xticks(rotation=90)\n",
    "plt.title(\"The 20 most used words for high priced listings\")\n",
    "plt.xlabel(\"Words used\")\n",
    "plt.ylabel(\"Count\")\n",
    "plt.show()"
   ]
  },
  {
   "cell_type": "code",
   "execution_count": 48,
   "metadata": {},
   "outputs": [
    {
     "data": {
      "image/png": "[encoded data removed]",
      "text/plain": [
       "<Figure size 432x288 with 1 Axes>"
      ]
     },
     "metadata": {
      "needs_background": "light"
     },
     "output_type": "display_data"
    }
   ],
   "source": [
    "#Extracting words from the lowest priced listings\n",
    "y=bnb[bnb['qrt'] ==\"1\"]\n",
    "common_words1 = get_top_n_words(y['new_name'], 20)\n",
    "df2 = pd.DataFrame(common_words1, columns = ['desc' , 'count'])\n",
    "df2.groupby('desc').sum()['count'].sort_values(ascending= False)\n",
    "plt.bar(x=df2['desc'], height=df2['count'])\n",
    "plt.xticks(rotation=90)\n",
    "plt.title(\"The 20 most used words for low priced listings\")\n",
    "plt.xlabel(\"Words used\")\n",
    "plt.ylabel(\"Count\")\n",
    "plt.show()"
   ]
  },
  {
   "cell_type": "markdown",
   "metadata": {},
   "source": [
    "I can now change my marketing according to my pricing strategy; if I want to charge high prices, I can use words like \"luxury\", but if I want to charge low prices, I can use words like \"large\"."
   ]
  },
  {
   "cell_type": "code",
   "execution_count": 49,
   "metadata": {},
   "outputs": [
    {
     "name": "stdout",
     "output_type": "stream",
     "text": [
      "0.016810601705100254\n"
     ]
    },
    {
     "data": {
      "image/png": "[encoded data removed]",
      "text/plain": [
       "<Figure size 432x288 with 1 Axes>"
      ]
     },
     "metadata": {
      "needs_background": "light"
     },
     "output_type": "display_data"
    }
   ],
   "source": [
    "#Does the number of days since last review affect price?\n",
    "bnb['last_r_d']=pd.datetime.now()-pd.to_datetime(bnb['last_review'], format=\"%Y-%m-%d\")\n",
    "bnb['last_r_d']=bnb['last_r_d'].dt.days\n",
    "print(bnb['price'].corr(bnb['last_r_d']))\n",
    "plt.scatter(x=bnb['last_r_d'], y=bnb['price'])\n",
    "plt.title('Number of days since last review vs Price')\n",
    "plt.xlabel('Number of days')\n",
    "plt.ylabel('Price')\n",
    "plt.show()"
   ]
  },
  {
   "cell_type": "markdown",
   "metadata": {},
   "source": [
    "Once again, there is little correlation between the number of days since last review and price. This means that I do not have to worry about up to date reviews when I make my pricing decisions."
   ]
  },
  {
   "cell_type": "markdown",
   "metadata": {},
   "source": [
    "# Summary"
   ]
  },
  {
   "cell_type": "markdown",
   "metadata": {},
   "source": [
    "1) Places like Williamsburg have been advertised the most, and places like Rossville the least.\n",
    "2) Renting entire apartments seems to be a favorable choice, mainly because it yields more revenue on average.\n",
    "3) Number of days since last review, number of days unoccupied and room type(except for entire aparments) do not play a significant role in determining price.\n",
    "4) The analysis shows what words to use for adverts based on pricing strategy."
   ]
  }
 ],
 "metadata": {
  "kernelspec": {
   "display_name": "Python 3",
   "language": "python",
   "name": "python3"
  },
  "language_info": {
   "codemirror_mode": {
    "name": "ipython",
    "version": 3
   },
   "file_extension": ".py",
   "mimetype": "text/x-python",
   "name": "python",
   "nbconvert_exporter": "python",
   "pygments_lexer": "ipython3",
   "version": "3.7.3"
  }
 },
 "nbformat": 4,
 "nbformat_minor": 2
}
